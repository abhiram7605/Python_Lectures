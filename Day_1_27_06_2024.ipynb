{
 "cells": [
  {
   "cell_type": "code",
   "execution_count": 5,
   "metadata": {},
   "outputs": [
    {
     "name": "stdout",
     "output_type": "stream",
     "text": [
      "Hello World\n"
     ]
    }
   ],
   "source": [
    "print(\"Hello World\") \n",
    "\n",
    "# print() it's an in built fucntion/object \n",
    "\n",
    "# Shift Enter to execute the cell and it will create a new cell\n",
    "\n"
   ]
  },
  {
   "cell_type": "code",
   "execution_count": null,
   "metadata": {},
   "outputs": [],
   "source": [
    "# Data Types:\n",
    "\"\"\"\n",
    "Text Type: \tstr \"\" # Limit for the memory\n",
    "Numeric Types: \tint, float # Limit for the memory \n",
    "Sequence Types: \tlist, tuple, range \n",
    "Mapping Type: \tdict\n",
    "Set Types: \tset,\n",
    "Boolean Type: \tbool\n",
    "None Type: \tNoneType\n",
    "Binary Types: \tbytes, bytearray\n",
    "\n",
    "\"\"\"\n",
    "\n",
    "# Variable\n"
   ]
  },
  {
   "cell_type": "code",
   "execution_count": 11,
   "metadata": {},
   "outputs": [
    {
     "name": "stdout",
     "output_type": "stream",
     "text": [
      "Devi\n",
      "6\n",
      "6.234\n"
     ]
    }
   ],
   "source": [
    "name = \"Devi\" # string\n",
    "print(name)\n",
    "number = 6 # integer\n",
    "print(number)\n",
    "number_1 = 6.234 # float\n",
    "print(number_1)\n"
   ]
  },
  {
   "cell_type": "code",
   "execution_count": 12,
   "metadata": {},
   "outputs": [
    {
     "name": "stdout",
     "output_type": "stream",
     "text": [
      "<class 'str'> <class 'int'> <class 'float'>\n"
     ]
    }
   ],
   "source": [
    "print(type(name), type(number), type(number_1))"
   ]
  },
  {
   "cell_type": "code",
   "execution_count": null,
   "metadata": {},
   "outputs": [],
   "source": []
  }
 ],
 "metadata": {
  "kernelspec": {
   "display_name": "Python 3",
   "language": "python",
   "name": "python3"
  },
  "language_info": {
   "codemirror_mode": {
    "name": "ipython",
    "version": 3
   },
   "file_extension": ".py",
   "mimetype": "text/x-python",
   "name": "python",
   "nbconvert_exporter": "python",
   "pygments_lexer": "ipython3",
   "version": "3.10.12"
  }
 },
 "nbformat": 4,
 "nbformat_minor": 2
}
